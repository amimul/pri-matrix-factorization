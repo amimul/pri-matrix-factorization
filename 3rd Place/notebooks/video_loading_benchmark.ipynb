{
 "cells": [
  {
   "cell_type": "code",
   "execution_count": 1,
   "metadata": {
    "ExecuteTime": {
     "end_time": "2017-11-07T19:09:36.764941Z",
     "start_time": "2017-11-07T19:09:36.283673Z"
    }
   },
   "outputs": [],
   "source": [
    "from joblib import Parallel, delayed\n",
    "\n",
    "import imageio\n",
    "import skvideo.io as skv\n",
    "from moviepy.editor import *\n",
    "\n",
    "import numpy as np\n",
    "import pandas as pd"
   ]
  },
  {
   "cell_type": "code",
   "execution_count": 2,
   "metadata": {
    "ExecuteTime": {
     "end_time": "2017-11-07T19:09:37.253476Z",
     "start_time": "2017-11-07T19:09:36.766386Z"
    }
   },
   "outputs": [],
   "source": [
    "data_dir = 'data/'\n",
    "data_micro_dir = data_dir+'micro/'\n",
    "\n",
    "train_labels_df = pd.read_csv(data_dir + 'train_labels.csv', index_col='filename')"
   ]
  },
  {
   "cell_type": "code",
   "execution_count": 3,
   "metadata": {
    "ExecuteTime": {
     "end_time": "2017-11-07T19:09:37.270015Z",
     "start_time": "2017-11-07T19:09:37.255037Z"
    }
   },
   "outputs": [],
   "source": [
    "def imageio_load_video(folder, file_name, dtype=np.int8):\n",
    "    reader = imageio.get_reader(folder + file_name)\n",
    "    video = np.array([frame for frame in reader.iter_data()], dtype=dtype)\n",
    "    reader.close()\n",
    "    return video\n",
    "\n",
    "def moviepy_load_video(folder, file_name, dtype=np.int8):\n",
    "    clip = VideoFileClip(folder + file_name, audio=False)\n",
    "    return np.array([frame for frame in clip.iter_frames()], dtype=dtype)\n",
    "\n",
    "def skv_load_video(folder, file_name, dtype=np.int8):\n",
    "    return skv.vread(folder + file_name)\n",
    "\n",
    "def skv_gen_load_video(folder, file_name, dtype=np.int8):\n",
    "    videogen = skv.vreader(folder + file_name)\n",
    "    return np.array([frame for frame in videogen])\n",
    "\n",
    "def load_videos(folder, file_names, load_fun, dtype=np.int8, cpu_cores=8):\n",
    "    return np.array(Parallel(n_jobs=cpu_cores)(delayed(load_fun)(folder, file_name, dtype) for file_name in file_names), dtype=dtype)"
   ]
  },
  {
   "cell_type": "code",
   "execution_count": 4,
   "metadata": {
    "ExecuteTime": {
     "end_time": "2017-11-07T19:09:37.304557Z",
     "start_time": "2017-11-07T19:09:37.302689Z"
    }
   },
   "outputs": [],
   "source": [
    "videos_fnames = train_labels_df.index[:1000]"
   ]
  },
  {
   "cell_type": "code",
   "execution_count": 5,
   "metadata": {
    "ExecuteTime": {
     "end_time": "2017-11-07T19:10:51.853943Z",
     "start_time": "2017-11-07T19:09:37.305842Z"
    }
   },
   "outputs": [
    {
     "name": "stdout",
     "output_type": "stream",
     "text": [
      "CPU times: user 1.19 s, sys: 7.75 s, total: 8.94 s\n",
      "Wall time: 1min 14s\n",
      "(1000, 30, 64, 64, 3)\n"
     ]
    }
   ],
   "source": [
    "# baseline\n",
    "%time videos = np.array([skv.vread(data_micro_dir + video_fname) for video_fname in videos_fnames], dtype=np.int8)\n",
    "\n",
    "print(videos.shape)\n",
    "del videos"
   ]
  },
  {
   "cell_type": "code",
   "execution_count": 6,
   "metadata": {
    "ExecuteTime": {
     "end_time": "2017-11-07T19:11:14.852893Z",
     "start_time": "2017-11-07T19:10:51.855395Z"
    }
   },
   "outputs": [
    {
     "name": "stdout",
     "output_type": "stream",
     "text": [
      "CPU times: user 536 ms, sys: 264 ms, total: 800 ms\n",
      "Wall time: 23 s\n",
      "(1000, 30, 64, 64, 3)\n"
     ]
    }
   ],
   "source": [
    "# imageio\n",
    "%time videos = load_videos(data_micro_dir, videos_fnames, imageio_load_video)\n",
    "\n",
    "print(videos.shape)\n",
    "del videos"
   ]
  },
  {
   "cell_type": "code",
   "execution_count": 7,
   "metadata": {
    "ExecuteTime": {
     "end_time": "2017-11-07T19:11:31.663742Z",
     "start_time": "2017-11-07T19:11:14.854435Z"
    }
   },
   "outputs": [
    {
     "name": "stdout",
     "output_type": "stream",
     "text": [
      "CPU times: user 392 ms, sys: 336 ms, total: 728 ms\n",
      "Wall time: 16.8 s\n",
      "(1000, 30, 64, 64, 3)\n"
     ]
    }
   ],
   "source": [
    "# moviepy\n",
    "%time videos = load_videos(data_micro_dir, videos_fnames, moviepy_load_video)\n",
    "\n",
    "print(videos.shape)\n",
    "del videos"
   ]
  },
  {
   "cell_type": "code",
   "execution_count": 8,
   "metadata": {
    "ExecuteTime": {
     "end_time": "2017-11-07T19:11:49.174252Z",
     "start_time": "2017-11-07T19:11:31.665291Z"
    }
   },
   "outputs": [
    {
     "name": "stdout",
     "output_type": "stream",
     "text": [
      "CPU times: user 356 ms, sys: 364 ms, total: 720 ms\n",
      "Wall time: 17.5 s\n",
      "(1000, 30, 64, 64, 3)\n"
     ]
    }
   ],
   "source": [
    "# skv\n",
    "%time videos = load_videos(data_micro_dir, videos_fnames, skv_load_video)\n",
    "\n",
    "print(videos.shape)\n",
    "del videos"
   ]
  },
  {
   "cell_type": "code",
   "execution_count": 9,
   "metadata": {
    "ExecuteTime": {
     "end_time": "2017-11-07T19:12:06.826155Z",
     "start_time": "2017-11-07T19:11:49.176402Z"
    }
   },
   "outputs": [
    {
     "name": "stdout",
     "output_type": "stream",
     "text": [
      "CPU times: user 364 ms, sys: 372 ms, total: 736 ms\n",
      "Wall time: 17.6 s\n",
      "(1000, 30, 64, 64, 3)\n"
     ]
    }
   ],
   "source": [
    "# skv\n",
    "%time videos = load_videos(data_micro_dir, videos_fnames, skv_gen_load_video)\n",
    "\n",
    "print(videos.shape)\n",
    "del videos"
   ]
  }
 ],
 "metadata": {
  "kernelspec": {
   "display_name": "Python 3",
   "language": "python",
   "name": "python3"
  },
  "language_info": {
   "codemirror_mode": {
    "name": "ipython",
    "version": 3
   },
   "file_extension": ".py",
   "mimetype": "text/x-python",
   "name": "python",
   "nbconvert_exporter": "python",
   "pygments_lexer": "ipython3",
   "version": "3.5.4"
  },
  "toc": {
   "nav_menu": {
    "height": "12px",
    "width": "172px"
   },
   "number_sections": true,
   "sideBar": true,
   "skip_h1_title": false,
   "toc_cell": false,
   "toc_position": {},
   "toc_section_display": "block",
   "toc_window_display": false
  },
  "varInspector": {
   "cols": {
    "lenName": 16,
    "lenType": 16,
    "lenVar": 40
   },
   "kernels_config": {
    "python": {
     "delete_cmd_postfix": "",
     "delete_cmd_prefix": "del ",
     "library": "var_list.py",
     "varRefreshCmd": "print(var_dic_list())"
    },
    "r": {
     "delete_cmd_postfix": ") ",
     "delete_cmd_prefix": "rm(",
     "library": "var_list.r",
     "varRefreshCmd": "cat(var_dic_list()) "
    }
   },
   "types_to_exclude": [
    "module",
    "function",
    "builtin_function_or_method",
    "instance",
    "_Feature"
   ],
   "window_display": false
  }
 },
 "nbformat": 4,
 "nbformat_minor": 2
}
